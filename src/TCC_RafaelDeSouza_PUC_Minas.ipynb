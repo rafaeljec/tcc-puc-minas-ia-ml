{
  "nbformat": 4,
  "nbformat_minor": 0,
  "metadata": {
    "colab": {
      "name": "TCC-RafaelDeSouza-PUC-Minas.ipynb",
      "provenance": [],
      "collapsed_sections": []
    },
    "kernelspec": {
      "name": "python3",
      "display_name": "Python 3"
    },
    "language_info": {
      "name": "python"
    }
  },
  "cells": [
    {
      "cell_type": "code",
      "execution_count": 1,
      "metadata": {
        "colab": {
          "base_uri": "https://localhost:8080/",
          "height": 206
        },
        "id": "t876torNHYJC",
        "outputId": "d76a581a-6efd-4443-bae6-0116f5f3904d"
      },
      "outputs": [
        {
          "output_type": "execute_result",
          "data": {
            "text/plain": [
              "   Chuva Dia Anterior      Maré     Chuva  Temperatura  Resultado\n",
              "0            1.000000  0.684211  1.000000     0.621118          1\n",
              "1            0.000000  0.842105  0.380105     0.745342          1\n",
              "2            0.259465  0.684211  0.196118     1.000000          1\n",
              "3            0.000000  0.631579  0.268500     0.832298          1\n",
              "4            0.229399  0.736842  0.219976     0.841615          1"
            ],
            "text/html": [
              "\n",
              "  <div id=\"df-8f07b878-332e-41c3-80f7-054fefebc6fa\">\n",
              "    <div class=\"colab-df-container\">\n",
              "      <div>\n",
              "<style scoped>\n",
              "    .dataframe tbody tr th:only-of-type {\n",
              "        vertical-align: middle;\n",
              "    }\n",
              "\n",
              "    .dataframe tbody tr th {\n",
              "        vertical-align: top;\n",
              "    }\n",
              "\n",
              "    .dataframe thead th {\n",
              "        text-align: right;\n",
              "    }\n",
              "</style>\n",
              "<table border=\"1\" class=\"dataframe\">\n",
              "  <thead>\n",
              "    <tr style=\"text-align: right;\">\n",
              "      <th></th>\n",
              "      <th>Chuva Dia Anterior</th>\n",
              "      <th>Maré</th>\n",
              "      <th>Chuva</th>\n",
              "      <th>Temperatura</th>\n",
              "      <th>Resultado</th>\n",
              "    </tr>\n",
              "  </thead>\n",
              "  <tbody>\n",
              "    <tr>\n",
              "      <th>0</th>\n",
              "      <td>1.000000</td>\n",
              "      <td>0.684211</td>\n",
              "      <td>1.000000</td>\n",
              "      <td>0.621118</td>\n",
              "      <td>1</td>\n",
              "    </tr>\n",
              "    <tr>\n",
              "      <th>1</th>\n",
              "      <td>0.000000</td>\n",
              "      <td>0.842105</td>\n",
              "      <td>0.380105</td>\n",
              "      <td>0.745342</td>\n",
              "      <td>1</td>\n",
              "    </tr>\n",
              "    <tr>\n",
              "      <th>2</th>\n",
              "      <td>0.259465</td>\n",
              "      <td>0.684211</td>\n",
              "      <td>0.196118</td>\n",
              "      <td>1.000000</td>\n",
              "      <td>1</td>\n",
              "    </tr>\n",
              "    <tr>\n",
              "      <th>3</th>\n",
              "      <td>0.000000</td>\n",
              "      <td>0.631579</td>\n",
              "      <td>0.268500</td>\n",
              "      <td>0.832298</td>\n",
              "      <td>1</td>\n",
              "    </tr>\n",
              "    <tr>\n",
              "      <th>4</th>\n",
              "      <td>0.229399</td>\n",
              "      <td>0.736842</td>\n",
              "      <td>0.219976</td>\n",
              "      <td>0.841615</td>\n",
              "      <td>1</td>\n",
              "    </tr>\n",
              "  </tbody>\n",
              "</table>\n",
              "</div>\n",
              "      <button class=\"colab-df-convert\" onclick=\"convertToInteractive('df-8f07b878-332e-41c3-80f7-054fefebc6fa')\"\n",
              "              title=\"Convert this dataframe to an interactive table.\"\n",
              "              style=\"display:none;\">\n",
              "        \n",
              "  <svg xmlns=\"http://www.w3.org/2000/svg\" height=\"24px\"viewBox=\"0 0 24 24\"\n",
              "       width=\"24px\">\n",
              "    <path d=\"M0 0h24v24H0V0z\" fill=\"none\"/>\n",
              "    <path d=\"M18.56 5.44l.94 2.06.94-2.06 2.06-.94-2.06-.94-.94-2.06-.94 2.06-2.06.94zm-11 1L8.5 8.5l.94-2.06 2.06-.94-2.06-.94L8.5 2.5l-.94 2.06-2.06.94zm10 10l.94 2.06.94-2.06 2.06-.94-2.06-.94-.94-2.06-.94 2.06-2.06.94z\"/><path d=\"M17.41 7.96l-1.37-1.37c-.4-.4-.92-.59-1.43-.59-.52 0-1.04.2-1.43.59L10.3 9.45l-7.72 7.72c-.78.78-.78 2.05 0 2.83L4 21.41c.39.39.9.59 1.41.59.51 0 1.02-.2 1.41-.59l7.78-7.78 2.81-2.81c.8-.78.8-2.07 0-2.86zM5.41 20L4 18.59l7.72-7.72 1.47 1.35L5.41 20z\"/>\n",
              "  </svg>\n",
              "      </button>\n",
              "      \n",
              "  <style>\n",
              "    .colab-df-container {\n",
              "      display:flex;\n",
              "      flex-wrap:wrap;\n",
              "      gap: 12px;\n",
              "    }\n",
              "\n",
              "    .colab-df-convert {\n",
              "      background-color: #E8F0FE;\n",
              "      border: none;\n",
              "      border-radius: 50%;\n",
              "      cursor: pointer;\n",
              "      display: none;\n",
              "      fill: #1967D2;\n",
              "      height: 32px;\n",
              "      padding: 0 0 0 0;\n",
              "      width: 32px;\n",
              "    }\n",
              "\n",
              "    .colab-df-convert:hover {\n",
              "      background-color: #E2EBFA;\n",
              "      box-shadow: 0px 1px 2px rgba(60, 64, 67, 0.3), 0px 1px 3px 1px rgba(60, 64, 67, 0.15);\n",
              "      fill: #174EA6;\n",
              "    }\n",
              "\n",
              "    [theme=dark] .colab-df-convert {\n",
              "      background-color: #3B4455;\n",
              "      fill: #D2E3FC;\n",
              "    }\n",
              "\n",
              "    [theme=dark] .colab-df-convert:hover {\n",
              "      background-color: #434B5C;\n",
              "      box-shadow: 0px 1px 3px 1px rgba(0, 0, 0, 0.15);\n",
              "      filter: drop-shadow(0px 1px 2px rgba(0, 0, 0, 0.3));\n",
              "      fill: #FFFFFF;\n",
              "    }\n",
              "  </style>\n",
              "\n",
              "      <script>\n",
              "        const buttonEl =\n",
              "          document.querySelector('#df-8f07b878-332e-41c3-80f7-054fefebc6fa button.colab-df-convert');\n",
              "        buttonEl.style.display =\n",
              "          google.colab.kernel.accessAllowed ? 'block' : 'none';\n",
              "\n",
              "        async function convertToInteractive(key) {\n",
              "          const element = document.querySelector('#df-8f07b878-332e-41c3-80f7-054fefebc6fa');\n",
              "          const dataTable =\n",
              "            await google.colab.kernel.invokeFunction('convertToInteractive',\n",
              "                                                     [key], {});\n",
              "          if (!dataTable) return;\n",
              "\n",
              "          const docLinkHtml = 'Like what you see? Visit the ' +\n",
              "            '<a target=\"_blank\" href=https://colab.research.google.com/notebooks/data_table.ipynb>data table notebook</a>'\n",
              "            + ' to learn more about interactive tables.';\n",
              "          element.innerHTML = '';\n",
              "          dataTable['output_type'] = 'display_data';\n",
              "          await google.colab.output.renderOutput(dataTable, element);\n",
              "          const docLink = document.createElement('div');\n",
              "          docLink.innerHTML = docLinkHtml;\n",
              "          element.appendChild(docLink);\n",
              "        }\n",
              "      </script>\n",
              "    </div>\n",
              "  </div>\n",
              "  "
            ]
          },
          "metadata": {},
          "execution_count": 1
        }
      ],
      "source": [
        "import pandas as pd\n",
        "dados = pd.read_csv('medicoes_jlle.csv')\n",
        "dados.head()"
      ]
    },
    {
      "cell_type": "code",
      "source": [
        "X = dados.drop(['Resultado'],axis=1).values\n",
        "y = dados['Resultado'].values\n",
        "y"
      ],
      "metadata": {
        "id": "PNmTaSyYHfbl",
        "colab": {
          "base_uri": "https://localhost:8080/"
        },
        "outputId": "bd3edcc7-ab9d-45ff-d1f9-cdc0f070a3d8"
      },
      "execution_count": 2,
      "outputs": [
        {
          "output_type": "execute_result",
          "data": {
            "text/plain": [
              "array([1, 1, 1, 1, 1, 1, 1, 1, 1, 1, 0, 0, 0, 0, 0, 0, 0, 0, 0, 0, 0, 0,\n",
              "       0, 0, 0, 0, 0, 0, 0, 0, 0, 0, 0, 0, 0, 0, 0, 0, 0, 0, 0, 0, 0, 0,\n",
              "       0, 0, 0, 0])"
            ]
          },
          "metadata": {},
          "execution_count": 2
        }
      ]
    },
    {
      "cell_type": "code",
      "source": [
        "from sklearn.model_selection import train_test_split\n",
        "X_treino,X_teste,y_treino,y_teste = train_test_split(X,y,test_size=0.2)\n",
        "\n",
        "type(X_treino)\n",
        "print(X_treino)"
      ],
      "metadata": {
        "id": "H1eYq5jLNtl4",
        "colab": {
          "base_uri": "https://localhost:8080/"
        },
        "outputId": "576e62c8-1b59-413b-b693-e91d1b914387"
      },
      "execution_count": 5,
      "outputs": [
        {
          "output_type": "stream",
          "name": "stdout",
          "text": [
            "[[0.00000000e+00 7.36842105e-01 3.39668420e-02 6.83229814e-01]\n",
            " [3.45211580e-02 8.94736842e-01 4.08410840e-02 8.88198758e-01]\n",
            " [1.20267261e-01 5.78947368e-01 6.34856450e-02 1.05900621e+00]\n",
            " [2.52783964e-01 7.89473684e-01 5.41852000e-02 5.52795031e-01]\n",
            " [7.57238310e-02 5.78947368e-01 4.44803882e-01 8.94409938e-01]\n",
            " [0.00000000e+00 8.42105263e-01 3.80105135e-01 7.45341615e-01]\n",
            " [6.01336300e-02 6.31578947e-01 4.04367170e-02 6.89440994e-01]\n",
            " [4.32071269e-01 6.84210526e-01 2.99231700e-02 3.91304348e-01]\n",
            " [0.00000000e+00 7.89473684e-01 0.00000000e+00 9.13043478e-01]\n",
            " [0.00000000e+00 8.94736842e-01 2.70926001e-01 6.21118012e-01]\n",
            " [5.67928730e-02 6.31578947e-01 8.08734300e-03 8.07453416e-01]\n",
            " [0.00000000e+00 8.42105263e-01 0.00000000e+00 6.89440994e-01]\n",
            " [7.46102450e-02 7.89473684e-01 6.91467850e-02 7.51552795e-01]\n",
            " [8.90868600e-03 8.42105263e-01 5.78245050e-02 8.07453416e-01]\n",
            " [0.00000000e+00 6.31578947e-01 4.85240600e-03 7.82608696e-01]\n",
            " [0.00000000e+00 7.36842105e-01 9.42175500e-02 5.27950311e-01]\n",
            " [3.45211580e-02 6.84210526e-01 6.30812780e-02 7.51552795e-01]\n",
            " [0.00000000e+00 8.42105263e-01 1.29397490e-02 8.44720497e-01]\n",
            " [0.00000000e+00 6.31578947e-01 2.68499798e-01 8.32298137e-01]\n",
            " [1.16926503e-01 9.47368421e-01 2.74969670e-02 5.59006211e-01]\n",
            " [1.22494432e-01 7.36842105e-01 0.00000000e+00 9.00621118e-01]\n",
            " [0.00000000e+00 7.36842105e-01 4.85240600e-03 5.65217391e-01]\n",
            " [0.00000000e+00 6.31578947e-01 2.02183580e-02 7.82608696e-01]\n",
            " [1.11358600e-03 8.94736842e-01 3.23493700e-03 9.31677019e-01]\n",
            " [0.00000000e+00 8.42105263e-01 7.27860900e-03 8.81987578e-01]\n",
            " [0.00000000e+00 7.89473684e-01 1.04326729e-01 6.21118012e-01]\n",
            " [1.04677060e-01 6.84210526e-01 4.33885968e-01 6.21118012e-01]\n",
            " [0.00000000e+00 7.36842105e-01 1.69834210e-02 6.83229814e-01]\n",
            " [2.59465479e-01 6.84210526e-01 1.96118075e-01 1.00000000e+00]\n",
            " [0.00000000e+00 0.00000000e+00 0.00000000e+00 0.00000000e+00]\n",
            " [7.01559020e-02 7.36842105e-01 6.71249490e-02 7.76397516e-01]\n",
            " [0.00000000e+00 5.78947368e-01 6.10594420e-02 7.88819876e-01]\n",
            " [1.12472160e-01 6.84210526e-01 8.08734000e-04 7.08074534e-01]\n",
            " [2.44988860e-02 8.42105263e-01 6.95511520e-02 6.33540373e-01]\n",
            " [0.00000000e+00 8.42105263e-01 4.21350586e-01 6.33540373e-01]\n",
            " [0.00000000e+00 6.84210526e-01 0.00000000e+00 1.01552795e+00]\n",
            " [1.69265033e-01 1.00000000e+00 5.17589970e-02 4.65838509e-01]\n",
            " [1.00000000e-01 8.00000000e-01 1.50000000e-01 6.00000000e-01]]\n"
          ]
        }
      ]
    },
    {
      "cell_type": "code",
      "source": [
        "import torch\n",
        "X_treino = torch.FloatTensor(X_treino)\n",
        "X_teste = torch.FloatTensor(X_teste)\n",
        "y_treino = torch.LongTensor(y_treino)\n",
        "y_teste = torch.LongTensor(y_teste)\n",
        "\n",
        "print(y_teste)"
      ],
      "metadata": {
        "colab": {
          "base_uri": "https://localhost:8080/"
        },
        "id": "gvBMr8NDNvcW",
        "outputId": "0c36e41b-5ec4-4787-f5a7-fe689d1ca35f"
      },
      "execution_count": 4,
      "outputs": [
        {
          "output_type": "stream",
          "name": "stdout",
          "text": [
            "tensor([1, 0, 0, 1, 1, 0, 0, 0, 1, 0])\n"
          ]
        }
      ]
    },
    {
      "cell_type": "code",
      "source": [
        "import torch.nn as nn\n",
        "import torch.nn.functional as F"
      ],
      "metadata": {
        "id": "YEig_byuNxfK"
      },
      "execution_count": null,
      "outputs": []
    },
    {
      "cell_type": "code",
      "source": [
        "# class Modelo(nn.Module):\n",
        "#   def __init__(self,entrada=4,camada_escondida1=8,camada_escondida2=32,saida=2):\n",
        "#     super().__init__()\n",
        "#     self.fc1 = nn.Linear(entrada,camada_escondida1)\n",
        "#     self.fc2 = nn.Linear(camada_escondida1, camada_escondida2)\n",
        "#     self.out = nn.Linear(camada_escondida2, saida)\n",
        "  \n",
        "#   def forward(self, x):\n",
        "#     x = F.relu(self.fc1(x))\n",
        "#     x = F.relu(self.fc2(x))\n",
        "#     x = self.out(x)\n",
        "#     return x\n",
        "\n",
        "class Modelo(nn.Module):\n",
        "  def __init__(self,entrada=4,camada_escondida1=8,camada_escondida2=32,saida=2):\n",
        "    super().__init__()\n",
        "    self.fc1 = nn.Linear(entrada,camada_escondida1)\n",
        "    self.fc2 = nn.Linear(camada_escondida1, camada_escondida2)\n",
        "    self.out = nn.Linear(camada_escondida2, saida)\n",
        "  \n",
        "  def forward(self, x):\n",
        "    x = F.relu(self.fc1(x))\n",
        "    x = F.relu(self.fc2(x))\n",
        "    x = self.out(x)\n",
        "    return x"
      ],
      "metadata": {
        "id": "BhUyFKs-NzUO"
      },
      "execution_count": null,
      "outputs": []
    },
    {
      "cell_type": "code",
      "source": [
        "modelo_classificacao = Modelo()"
      ],
      "metadata": {
        "id": "JL9gqDYXN1vF"
      },
      "execution_count": null,
      "outputs": []
    },
    {
      "cell_type": "code",
      "source": [
        "funcao_objetivo = nn.CrossEntropyLoss()"
      ],
      "metadata": {
        "id": "NIibfQGWN3Zy"
      },
      "execution_count": null,
      "outputs": []
    },
    {
      "cell_type": "code",
      "source": [
        "otimizador = torch.optim.Adam(modelo_classificacao.parameters(), lr=0.01)"
      ],
      "metadata": {
        "id": "LQeTTQOBN5Kq"
      },
      "execution_count": null,
      "outputs": []
    },
    {
      "cell_type": "code",
      "source": [
        "epocas = 100\n",
        "custos = []\n",
        "for i in range(epocas):\n",
        "  y_predito = modelo_classificacao.forward(X_treino)\n",
        "  custo = funcao_objetivo(y_predito, y_treino)\n",
        "  custos.append(custo)\n",
        "\n",
        "  otimizador.zero_grad()\n",
        "  custo.backward()\n",
        "  otimizador.step()"
      ],
      "metadata": {
        "id": "LOt98tPGN64h"
      },
      "execution_count": null,
      "outputs": []
    },
    {
      "cell_type": "code",
      "source": [
        "preds = []\n",
        "resul = []\n",
        "\n",
        "with torch.no_grad():\n",
        "    for val in X_teste:\n",
        "        y_predito = modelo_classificacao.forward(val)\n",
        "        print(y_predito)\n",
        "        preds.append(y_predito.argmax().item())\n",
        "        resul.append(y_predito)\n",
        "\n",
        "df = pd.DataFrame({'Y': y_teste, 'YHat': preds})\n",
        "df['Correto'] = [1 if corr == pred else 0 for corr, pred in zip(df['Y'], df['YHat'])]\n",
        "df"
      ],
      "metadata": {
        "colab": {
          "base_uri": "https://localhost:8080/",
          "height": 545
        },
        "id": "VbIqijXnORUG",
        "outputId": "70b1e49f-af77-46ee-f1c3-92f0ff645e39"
      },
      "execution_count": null,
      "outputs": [
        {
          "output_type": "stream",
          "name": "stdout",
          "text": [
            "tensor([ 0.7666, -0.6425])\n",
            "tensor([ 2.4206, -2.0753])\n",
            "tensor([ 1.9732, -1.6844])\n",
            "tensor([ 3.7442, -3.2217])\n",
            "tensor([ 3.3464, -2.8738])\n",
            "tensor([ 3.0221, -2.5910])\n",
            "tensor([-3.3039,  2.9136])\n",
            "tensor([-3.0634,  2.6899])\n",
            "tensor([ 1.5439, -1.3190])\n",
            "tensor([ 3.9035, -3.3558])\n"
          ]
        },
        {
          "output_type": "execute_result",
          "data": {
            "text/plain": [
              "   Y  YHat  Correto\n",
              "0  0     0        1\n",
              "1  0     0        1\n",
              "2  0     0        1\n",
              "3  0     0        1\n",
              "4  0     0        1\n",
              "5  0     0        1\n",
              "6  1     1        1\n",
              "7  1     1        1\n",
              "8  0     0        1\n",
              "9  0     0        1"
            ],
            "text/html": [
              "\n",
              "  <div id=\"df-3f99fc09-b79d-41f2-9f38-aee64660f9d3\">\n",
              "    <div class=\"colab-df-container\">\n",
              "      <div>\n",
              "<style scoped>\n",
              "    .dataframe tbody tr th:only-of-type {\n",
              "        vertical-align: middle;\n",
              "    }\n",
              "\n",
              "    .dataframe tbody tr th {\n",
              "        vertical-align: top;\n",
              "    }\n",
              "\n",
              "    .dataframe thead th {\n",
              "        text-align: right;\n",
              "    }\n",
              "</style>\n",
              "<table border=\"1\" class=\"dataframe\">\n",
              "  <thead>\n",
              "    <tr style=\"text-align: right;\">\n",
              "      <th></th>\n",
              "      <th>Y</th>\n",
              "      <th>YHat</th>\n",
              "      <th>Correto</th>\n",
              "    </tr>\n",
              "  </thead>\n",
              "  <tbody>\n",
              "    <tr>\n",
              "      <th>0</th>\n",
              "      <td>0</td>\n",
              "      <td>0</td>\n",
              "      <td>1</td>\n",
              "    </tr>\n",
              "    <tr>\n",
              "      <th>1</th>\n",
              "      <td>0</td>\n",
              "      <td>0</td>\n",
              "      <td>1</td>\n",
              "    </tr>\n",
              "    <tr>\n",
              "      <th>2</th>\n",
              "      <td>0</td>\n",
              "      <td>0</td>\n",
              "      <td>1</td>\n",
              "    </tr>\n",
              "    <tr>\n",
              "      <th>3</th>\n",
              "      <td>0</td>\n",
              "      <td>0</td>\n",
              "      <td>1</td>\n",
              "    </tr>\n",
              "    <tr>\n",
              "      <th>4</th>\n",
              "      <td>0</td>\n",
              "      <td>0</td>\n",
              "      <td>1</td>\n",
              "    </tr>\n",
              "    <tr>\n",
              "      <th>5</th>\n",
              "      <td>0</td>\n",
              "      <td>0</td>\n",
              "      <td>1</td>\n",
              "    </tr>\n",
              "    <tr>\n",
              "      <th>6</th>\n",
              "      <td>1</td>\n",
              "      <td>1</td>\n",
              "      <td>1</td>\n",
              "    </tr>\n",
              "    <tr>\n",
              "      <th>7</th>\n",
              "      <td>1</td>\n",
              "      <td>1</td>\n",
              "      <td>1</td>\n",
              "    </tr>\n",
              "    <tr>\n",
              "      <th>8</th>\n",
              "      <td>0</td>\n",
              "      <td>0</td>\n",
              "      <td>1</td>\n",
              "    </tr>\n",
              "    <tr>\n",
              "      <th>9</th>\n",
              "      <td>0</td>\n",
              "      <td>0</td>\n",
              "      <td>1</td>\n",
              "    </tr>\n",
              "  </tbody>\n",
              "</table>\n",
              "</div>\n",
              "      <button class=\"colab-df-convert\" onclick=\"convertToInteractive('df-3f99fc09-b79d-41f2-9f38-aee64660f9d3')\"\n",
              "              title=\"Convert this dataframe to an interactive table.\"\n",
              "              style=\"display:none;\">\n",
              "        \n",
              "  <svg xmlns=\"http://www.w3.org/2000/svg\" height=\"24px\"viewBox=\"0 0 24 24\"\n",
              "       width=\"24px\">\n",
              "    <path d=\"M0 0h24v24H0V0z\" fill=\"none\"/>\n",
              "    <path d=\"M18.56 5.44l.94 2.06.94-2.06 2.06-.94-2.06-.94-.94-2.06-.94 2.06-2.06.94zm-11 1L8.5 8.5l.94-2.06 2.06-.94-2.06-.94L8.5 2.5l-.94 2.06-2.06.94zm10 10l.94 2.06.94-2.06 2.06-.94-2.06-.94-.94-2.06-.94 2.06-2.06.94z\"/><path d=\"M17.41 7.96l-1.37-1.37c-.4-.4-.92-.59-1.43-.59-.52 0-1.04.2-1.43.59L10.3 9.45l-7.72 7.72c-.78.78-.78 2.05 0 2.83L4 21.41c.39.39.9.59 1.41.59.51 0 1.02-.2 1.41-.59l7.78-7.78 2.81-2.81c.8-.78.8-2.07 0-2.86zM5.41 20L4 18.59l7.72-7.72 1.47 1.35L5.41 20z\"/>\n",
              "  </svg>\n",
              "      </button>\n",
              "      \n",
              "  <style>\n",
              "    .colab-df-container {\n",
              "      display:flex;\n",
              "      flex-wrap:wrap;\n",
              "      gap: 12px;\n",
              "    }\n",
              "\n",
              "    .colab-df-convert {\n",
              "      background-color: #E8F0FE;\n",
              "      border: none;\n",
              "      border-radius: 50%;\n",
              "      cursor: pointer;\n",
              "      display: none;\n",
              "      fill: #1967D2;\n",
              "      height: 32px;\n",
              "      padding: 0 0 0 0;\n",
              "      width: 32px;\n",
              "    }\n",
              "\n",
              "    .colab-df-convert:hover {\n",
              "      background-color: #E2EBFA;\n",
              "      box-shadow: 0px 1px 2px rgba(60, 64, 67, 0.3), 0px 1px 3px 1px rgba(60, 64, 67, 0.15);\n",
              "      fill: #174EA6;\n",
              "    }\n",
              "\n",
              "    [theme=dark] .colab-df-convert {\n",
              "      background-color: #3B4455;\n",
              "      fill: #D2E3FC;\n",
              "    }\n",
              "\n",
              "    [theme=dark] .colab-df-convert:hover {\n",
              "      background-color: #434B5C;\n",
              "      box-shadow: 0px 1px 3px 1px rgba(0, 0, 0, 0.15);\n",
              "      filter: drop-shadow(0px 1px 2px rgba(0, 0, 0, 0.3));\n",
              "      fill: #FFFFFF;\n",
              "    }\n",
              "  </style>\n",
              "\n",
              "      <script>\n",
              "        const buttonEl =\n",
              "          document.querySelector('#df-3f99fc09-b79d-41f2-9f38-aee64660f9d3 button.colab-df-convert');\n",
              "        buttonEl.style.display =\n",
              "          google.colab.kernel.accessAllowed ? 'block' : 'none';\n",
              "\n",
              "        async function convertToInteractive(key) {\n",
              "          const element = document.querySelector('#df-3f99fc09-b79d-41f2-9f38-aee64660f9d3');\n",
              "          const dataTable =\n",
              "            await google.colab.kernel.invokeFunction('convertToInteractive',\n",
              "                                                     [key], {});\n",
              "          if (!dataTable) return;\n",
              "\n",
              "          const docLinkHtml = 'Like what you see? Visit the ' +\n",
              "            '<a target=\"_blank\" href=https://colab.research.google.com/notebooks/data_table.ipynb>data table notebook</a>'\n",
              "            + ' to learn more about interactive tables.';\n",
              "          element.innerHTML = '';\n",
              "          dataTable['output_type'] = 'display_data';\n",
              "          await google.colab.output.renderOutput(dataTable, element);\n",
              "          const docLink = document.createElement('div');\n",
              "          docLink.innerHTML = docLinkHtml;\n",
              "          element.appendChild(docLink);\n",
              "        }\n",
              "      </script>\n",
              "    </div>\n",
              "  </div>\n",
              "  "
            ]
          },
          "metadata": {},
          "execution_count": 33
        }
      ]
    }
  ]
}